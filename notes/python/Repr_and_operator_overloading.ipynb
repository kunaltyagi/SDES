{
 "cells": [
  {
   "cell_type": "markdown",
   "metadata": {},
   "source": [
    "# `__repr__` and operator overloading"
   ]
  },
  {
   "cell_type": "markdown",
   "metadata": {},
   "source": [
    "Just to fill a gap, remember that Python allows for operator overloading. That is, you can override functions like `__add__`, `__cmp__` etc. to provide support for such operators. For example:"
   ]
  },
  {
   "cell_type": "code",
   "execution_count": 1,
   "metadata": {
    "collapsed": false
   },
   "outputs": [
    {
     "name": "stdout",
     "output_type": "stream",
     "text": [
      "Checking if Bob (A2) has outscored Adam (A1)...\n",
      "True\n",
      "Checking if Bob (A2) has outscored Carol (A3)...\n",
      "False\n",
      "[Adam (A1), Bob (A2), Carol (A3)]\n"
     ]
    }
   ],
   "source": [
    "class Student(object):\n",
    "    def __init__(self, name, rollno, score):\n",
    "        self.name = name\n",
    "        self.rollno = rollno\n",
    "        self.score = score\n",
    "\n",
    "    def __repr__(self):\n",
    "        return \"%s (%s)\" % (self.name, self.rollno)\n",
    "\n",
    "    def __lt__(self, other):\n",
    "        return self.score < other.score\n",
    "\n",
    "s1 = Student('Adam', 'A1', 30)\n",
    "s2 = Student('Bob', 'A2', 40)\n",
    "s3 = Student('Carol', 'A3', 50)\n",
    "print(\"Checking if %s has outscored %s...\" % (s2, s1))\n",
    "print(s1 < s2)\n",
    "print(\"Checking if %s has outscored %s...\" % (s2, s3))\n",
    "print(s2 > s3)\n",
    "print(sorted([s1, s3, s2]))"
   ]
  },
  {
   "cell_type": "markdown",
   "metadata": {},
   "source": [
    "In the above, two special operators are being overridden.\n",
    "\n",
    "- One is the \"less than\" operator `__lt__`, that checks the score of students and allows for ordering based on that. This means that functions like `sorted` can be called without a special key! Note that you also get the `__gt__` for free. What happens when two students have equal scores is left as an exercise.\n",
    "\n",
    "- The other operator is `__repr__`. That is called when a string operator is required. It is much better to override this, since that way, you can see a neat description of your object, rather than `<__main__.Student instance at 0x7fdcdb58fc68>`"
   ]
  }
 ],
 "metadata": {
  "kernelspec": {
   "display_name": "Python 3",
   "language": "python",
   "name": "python3"
  },
  "language_info": {
   "codemirror_mode": {
    "name": "ipython",
    "version": 3
   },
   "file_extension": ".py",
   "mimetype": "text/x-python",
   "name": "python",
   "nbconvert_exporter": "python",
   "pygments_lexer": "ipython3",
   "version": "3.5.2+"
  }
 },
 "nbformat": 4,
 "nbformat_minor": 1
}
