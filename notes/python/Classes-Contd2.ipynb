{
 "cells": [
  {
   "cell_type": "markdown",
   "metadata": {},
   "source": [
    "# Introduction to objects and classes in Python\n",
    "\n",
    "We will touch upon some basic aspects, including\n",
    " - code reuse\n",
    " - abstraction\n",
    " - Encapsulation\n",
    " - subclasses and hierarchies"
   ]
  },
  {
   "cell_type": "code",
   "execution_count": 8,
   "metadata": {
    "collapsed": false
   },
   "outputs": [
    {
     "name": "stdout",
     "output_type": "stream",
     "text": [
      "Woof!\n",
      "Bark\n",
      "Woof!\n",
      "Eating dog biscuits.\n",
      "3\n"
     ]
    }
   ],
   "source": [
    "class Dog:\n",
    "    def __init__(self, name):\n",
    "        self.age = 0\n",
    "        self.name = name\n",
    "        self.noise = \"Woof!\"\n",
    "        self.food = \"dog biscuits\"\n",
    "    \n",
    "    def make_sound(self):\n",
    "        print(self.noise)\n",
    "        \n",
    "    def eat_food(self):\n",
    "        print(\"Eating \" + self.food + \".\")\n",
    "        \n",
    "    def increase_age(self, n = 1):\n",
    "        self.age = self.age + n\n",
    "\n",
    "d1 = Dog('Buster')\n",
    "d1.make_sound()\n",
    "d2 = Dog('Tiger')\n",
    "d2.noise = 'Bark'\n",
    "d2.make_sound()\n",
    "d1.make_sound()\n",
    "d1.eat_food()\n",
    "d1.increase_age(3)\n",
    "print(d1.age)"
   ]
  },
  {
   "cell_type": "code",
   "execution_count": 9,
   "metadata": {
    "collapsed": false
   },
   "outputs": [
    {
     "name": "stdout",
     "output_type": "stream",
     "text": [
      "Meow!\n",
      "Eating cat food.\n"
     ]
    }
   ],
   "source": [
    "class Cat:\n",
    "    def __init__(self, name):\n",
    "        self.age = 0\n",
    "        self.name = name\n",
    "        self.noise = \"Meow!\"\n",
    "        self.food = \"cat food\"\n",
    "    \n",
    "    def make_sound(self):\n",
    "        print(self.noise)\n",
    "        \n",
    "    def eat_food(self):\n",
    "        print(\"Eating \" + self.food + \".\")\n",
    "        \n",
    "    def increase_age(self, n = 1):\n",
    "        self.age = self.age + n\n",
    "\n",
    "c1 = Cat('Harvey')\n",
    "c1.make_sound()\n",
    "c1.eat_food()"
   ]
  },
  {
   "cell_type": "markdown",
   "metadata": {},
   "source": [
    "In the above examples, it becomes clear that there is much repetition, and we can make the code more compact. Let us abstract common functionality into an abstract class."
   ]
  },
  {
   "cell_type": "code",
   "execution_count": 3,
   "metadata": {
    "collapsed": false,
    "scrolled": false
   },
   "outputs": [
    {
     "name": "stdout",
     "output_type": "stream",
     "text": [
      "Buster says Bark!\n",
      "Harvey says Meow!\n",
      "Harvey is eating cat food.\n"
     ]
    },
    {
     "ename": "TypeError",
     "evalue": "Can't instantiate abstract class Mammal with abstract methods __init__",
     "output_type": "error",
     "traceback": [
      "\u001b[0;31m---------------------------------------------------------------------------\u001b[0m",
      "\u001b[0;31mTypeError\u001b[0m                                 Traceback (most recent call last)",
      "\u001b[0;32m<ipython-input-3-ff50dc6e4225>\u001b[0m in \u001b[0;36m<module>\u001b[0;34m()\u001b[0m\n\u001b[1;32m     35\u001b[0m \u001b[0mc\u001b[0m\u001b[0;34m.\u001b[0m\u001b[0mmake_sound\u001b[0m\u001b[0;34m(\u001b[0m\u001b[0;34m)\u001b[0m\u001b[0;34m\u001b[0m\u001b[0m\n\u001b[1;32m     36\u001b[0m \u001b[0mc\u001b[0m\u001b[0;34m.\u001b[0m\u001b[0meat_food\u001b[0m\u001b[0;34m(\u001b[0m\u001b[0;34m)\u001b[0m\u001b[0;34m\u001b[0m\u001b[0m\n\u001b[0;32m---> 37\u001b[0;31m \u001b[0mm\u001b[0m \u001b[0;34m=\u001b[0m \u001b[0mMammal\u001b[0m\u001b[0;34m(\u001b[0m\u001b[0;34m\"Name\"\u001b[0m\u001b[0;34m)\u001b[0m\u001b[0;34m\u001b[0m\u001b[0m\n\u001b[0m\u001b[1;32m     38\u001b[0m \u001b[0mm\u001b[0m\u001b[0;34m.\u001b[0m\u001b[0mmake_sound\u001b[0m\u001b[0;34m(\u001b[0m\u001b[0;34m)\u001b[0m\u001b[0;34m\u001b[0m\u001b[0m\n\u001b[1;32m     39\u001b[0m \u001b[0mm\u001b[0m\u001b[0;34m.\u001b[0m\u001b[0meat_food\u001b[0m\u001b[0;34m(\u001b[0m\u001b[0;34m)\u001b[0m\u001b[0;34m\u001b[0m\u001b[0m\n",
      "\u001b[0;31mTypeError\u001b[0m: Can't instantiate abstract class Mammal with abstract methods __init__"
     ]
    }
   ],
   "source": [
    "from abc import ABCMeta, abstractmethod\n",
    "class Mammal(metaclass=ABCMeta):\n",
    "\n",
    "    @abstractmethod\n",
    "    def __init__(self, name):\n",
    "        self.age = 0\n",
    "        self.name = name\n",
    "        self.noise = \"None!\"\n",
    "        self.food = \"none\"\n",
    "    \n",
    "    def make_sound(self):\n",
    "        print(self.name + \" says \" + self.noise)\n",
    "        \n",
    "    def eat_food(self):\n",
    "        print(self.name + \" is eating \" + self.food + \".\")\n",
    "        \n",
    "    def increase_age(self, n = 1):\n",
    "        self.age = self.age + n\n",
    "\n",
    "class Dog(Mammal):\n",
    "    def __init__(self, name):\n",
    "        super(Dog, self).__init__(name)\n",
    "        self.noise = \"Bark!\"\n",
    "        self.food = \"dog biscuits\"\n",
    "\n",
    "class Cat(Mammal):\n",
    "    def __init__(self, name):\n",
    "        super(Cat, self).__init__(name)\n",
    "        self.noise = \"Meow!\"\n",
    "        self.food = \"cat food\"\n",
    "\n",
    "d = Dog(\"Buster\")\n",
    "c = Cat(\"Harvey\")\n",
    "d.make_sound()\n",
    "c.make_sound()\n",
    "c.eat_food()\n",
    "m = Mammal(\"Name\")\n",
    "m.make_sound()\n",
    "m.eat_food()\n",
    "import sys\n",
    "print(sys.version)"
   ]
  },
  {
   "cell_type": "code",
   "execution_count": 23,
   "metadata": {
    "collapsed": false
   },
   "outputs": [
    {
     "name": "stdout",
     "output_type": "stream",
     "text": [
      "MyDog1 says Bark!\n",
      "MyDog2 says Bark!\n",
      "MyDog3 says Bark!\n",
      "MyDog4 says Bark!\n",
      "MyCat1 says Meow!\n",
      "MyCat2 says Meow!\n",
      "MyCat3 says Meow!\n",
      "MyCat4 says Meow!\n"
     ]
    }
   ],
   "source": [
    "animal_house = [Dog(\"MyDog\" + str(i))\n",
    "                for i in range(1, 5)]\n",
    "animal_house.extend([Cat(\"MyCat\" + str(i))\n",
    "                     for i in range(1, 5)])\n",
    "for i in animal_house:\n",
    "    i.make_sound()"
   ]
  },
  {
   "cell_type": "markdown",
   "metadata": {},
   "source": [
    "# Iterators\n",
    "How do I add an iteration facility to my own objects so that they can be used with for loops?"
   ]
  },
  {
   "cell_type": "code",
   "execution_count": 40,
   "metadata": {
    "collapsed": false
   },
   "outputs": [
    {
     "name": "stdout",
     "output_type": "stream",
     "text": [
      "ABC\n",
      "0.0\n",
      "200\n",
      "30\n",
      "10\n"
     ]
    }
   ],
   "source": [
    "class Reverse:\n",
    "    \"\"\"Iterator for looping over a sequence backwards.\"\"\"\n",
    "    def __init__(self, data):\n",
    "        self.data = data\n",
    "        self.index = len(data)\n",
    "\n",
    "    def __iter__(self):\n",
    "        return self\n",
    "\n",
    "    def next(self): # def next(self): in Python 2!\n",
    "        if self.index == 0:\n",
    "            raise StopIteration\n",
    "        self.index = self.index - 1\n",
    "        return self.data[self.index]\n",
    "\n",
    "rev = iter(Reverse([10, 30, 200, 0.0, 'ABC']))\n",
    "\n",
    "for i in rev:\n",
    "    print(i)"
   ]
  },
  {
   "cell_type": "markdown",
   "metadata": {},
   "source": [
    "# Generators\n",
    "\n",
    "Use functions to create iterators, instead of classes"
   ]
  },
  {
   "cell_type": "code",
   "execution_count": 31,
   "metadata": {
    "collapsed": false
   },
   "outputs": [
    {
     "name": "stdout",
     "output_type": "stream",
     "text": [
      "m\n",
      "a\n",
      "d\n",
      "A\n",
      " \n",
      "m\n",
      "'\n",
      "I\n",
      " \n",
      ",\n",
      "m\n",
      "a\n",
      "d\n",
      "a\n",
      "M\n"
     ]
    }
   ],
   "source": [
    "def reverse(data):\n",
    "    for index in range(len(data)-1, -1, -1):\n",
    "        yield data[index]\n",
    "\n",
    "for char in reverse(\"Madam, I'm Adam\"):\n",
    "    print(char)"
   ]
  },
  {
   "cell_type": "markdown",
   "metadata": {},
   "source": [
    "# Summing series\n",
    "We want to efficiently find the sum\n",
    "$$\n",
    "\\sum_{n = 0}^N \\frac{1}{n^2}\n",
    "$$\n",
    "\n",
    "As $N$ becomes larger, this becomes $\\frac{\\pi^2}{6}$."
   ]
  },
  {
   "cell_type": "code",
   "execution_count": 3,
   "metadata": {
    "collapsed": false
   },
   "outputs": [
    {
     "name": "stdout",
     "output_type": "stream",
     "text": [
      "-9.999949984074163e-06\n"
     ]
    }
   ],
   "source": [
    "import math\n",
    "def series_sum(max_terms=1000):\n",
    "    n = 0\n",
    "    while n < max_terms:\n",
    "        n = n + 1\n",
    "        yield 1.0 / n**2\n",
    "\n",
    "print(sum(series_sum(100000)) - math.pi**2 / 6)"
   ]
  },
  {
   "cell_type": "markdown",
   "metadata": {},
   "source": [
    "The key thing to note is that this is much more efficient than generating a list of terms in memory and summing it. That is, more efficient than"
   ]
  },
  {
   "cell_type": "code",
   "execution_count": 5,
   "metadata": {
    "collapsed": false
   },
   "outputs": [
    {
     "name": "stdout",
     "output_type": "stream",
     "text": [
      "1.6448340618480652\n"
     ]
    }
   ],
   "source": [
    "print(sum([1.0 / i**2 for i in range(1, 10000)]))"
   ]
  },
  {
   "cell_type": "markdown",
   "metadata": {},
   "source": [
    "# Decorators\n",
    "Alter the behaviour of functions (somewhat)\n",
    "\n",
    "Example:\n",
    "\n",
    "- I wish to print the arguments to a function before I call it.\n",
    "- One way: Edit the function. But it's clumsy!\n",
    "- Better way, wrap it in another function:"
   ]
  },
  {
   "cell_type": "code",
   "execution_count": 51,
   "metadata": {
    "collapsed": false
   },
   "outputs": [
    {
     "name": "stdout",
     "output_type": "stream",
     "text": [
      "The function arguments are:\n",
      "()\n",
      "{'age': 3, 'name': 'Harvey'}\n",
      "Now running the function!\n",
      "Name: Harvey, Age: 3\n"
     ]
    }
   ],
   "source": [
    "def add_numbers(a, b):\n",
    "    return a + b\n",
    "\n",
    "def arg_wrapper(f, *args, **kwargs):\n",
    "    print(\"The function arguments are:\")\n",
    "    print(args)\n",
    "    print(kwargs)\n",
    "    print(\"Now running the function!\")\n",
    "    return f(*args, **kwargs)\n",
    "\n",
    "#print(add_numbers(1, 2))\n",
    "#print(arg_wrapper(add_numbers, 1, 2))\n",
    "\n",
    "def myfunction(name='Test', age=30):\n",
    "    print(\"Name: %s, Age: %d\" % (name, age))\n",
    "\n",
    "arg_wrapper(myfunction, name='Harvey', age=3)\n",
    "\n"
   ]
  },
  {
   "cell_type": "code",
   "execution_count": 57,
   "metadata": {
    "collapsed": false
   },
   "outputs": [
    {
     "name": "stdout",
     "output_type": "stream",
     "text": [
      "\n",
      "Sum of all the numbers: 49995000\n"
     ]
    },
    {
     "data": {
      "text/plain": [
       "'Time it took to run the function: 0.0010094642639160156\\n'"
      ]
     },
     "execution_count": 57,
     "metadata": {},
     "output_type": "execute_result"
    }
   ],
   "source": [
    "import time\n",
    "\n",
    "def timing_function(some_function):\n",
    "    def wrapper():\n",
    "        t1 = time.time()\n",
    "        some_function()\n",
    "        t2 = time.time()\n",
    "        return \"Time it took to run the function: \" + str((t2 - t1)) + \"\\n\"\n",
    "    return wrapper\n",
    "\n",
    "@timing_function\n",
    "def my_function():\n",
    "    num_list = []\n",
    "    for num in (range(0, 10000)):\n",
    "        num_list.append(num)\n",
    "    print(\"\\nSum of all the numbers: \" + str((sum(num_list))))\n",
    "\n",
    "\n",
    "my_function()"
   ]
  }
 ],
 "metadata": {
  "kernelspec": {
   "display_name": "Python 3",
   "language": "python",
   "name": "python3"
  },
  "language_info": {
   "codemirror_mode": {
    "name": "ipython",
    "version": 3
   },
   "file_extension": ".py",
   "mimetype": "text/x-python",
   "name": "python",
   "nbconvert_exporter": "python",
   "pygments_lexer": "ipython3",
   "version": "3.5.2+"
  }
 },
 "nbformat": 4,
 "nbformat_minor": 1
}