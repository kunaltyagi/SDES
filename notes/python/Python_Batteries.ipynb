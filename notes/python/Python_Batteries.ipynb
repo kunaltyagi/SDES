{
 "cells": [
  {
   "cell_type": "markdown",
   "metadata": {},
   "source": [
    "# Subsets of elements\n",
    "* For lists and other indexable elements, you can easily find subsets:"
   ]
  },
  {
   "cell_type": "code",
   "execution_count": 18,
   "metadata": {
    "collapsed": false
   },
   "outputs": [
    {
     "name": "stdout",
     "output_type": "stream",
     "text": [
      "range(3, 6)\n",
      "e q\n",
      "range(1, 20, 3)\n",
      "T i o xusv ea g\n",
      "18\n",
      "g\n"
     ]
    }
   ],
   "source": [
    "x = range(1, 20)\n",
    "y = \"The quick brown fox jumps over the lazy dog.\"\n",
    "# print elements 2 to 4\n",
    "print(x[2:5])\n",
    "print(y[2:5])\n",
    "# Print every third element starting from the first element\n",
    "print(x[::3])\n",
    "print(y[::3])\n",
    "\n",
    "# Print the second last element\n",
    "print(x[-2])\n",
    "print(y[-2])"
   ]
  },
  {
   "cell_type": "markdown",
   "metadata": {},
   "source": [
    "# Libraries\n",
    "\n",
    "* Python comes with batteries included.\n",
    "* Several commonly used things are available in standard libraries.\n",
    "* Size and breadth are large\n",
    "* Not all of them have the same quality, but most of them are great.\n",
    "* Hundreds of modules tested, ready to use."
   ]
  },
  {
   "cell_type": "markdown",
   "metadata": {},
   "source": [
    "# Standard Libraries\n",
    "\n",
    "* Text processing `string`, `re`, `textwrap`\n",
    "* Numbers `decimal`, `random`\n",
    "* File system `os`, `glob`, `shutil`, `stringIO`\n",
    "* Building Applications `argparse`\n",
    "* Runtime features `sys`\n",
    "* Several others are there including networks, cryptography etc."
   ]
  },
  {
   "cell_type": "markdown",
   "metadata": {},
   "source": [
    "# String\n",
    "* String utilities for a lot of common things\n",
    "* capitalize, capitalize first letters etc.\n",
    "* Have to _import_ `string` module\n",
    "* Some examples:"
   ]
  },
  {
   "cell_type": "code",
   "execution_count": 19,
   "metadata": {
    "collapsed": false
   },
   "outputs": [
    {
     "data": {
      "text/plain": [
       "'The quick brown fox jumps over the lazy dog.'"
      ]
     },
     "execution_count": 19,
     "metadata": {},
     "output_type": "execute_result"
    }
   ],
   "source": [
    "import string\n",
    "s = 'the quick brown fox jumps over the lazy dog.'\n",
    "s.capitalize()"
   ]
  },
  {
   "cell_type": "code",
   "execution_count": 26,
   "metadata": {
    "collapsed": false
   },
   "outputs": [
    {
     "data": {
      "text/plain": [
       "'The Quick Brown Fox Jumps Over The Lazy Dog.'"
      ]
     },
     "execution_count": 26,
     "metadata": {},
     "output_type": "execute_result"
    }
   ],
   "source": [
    "s = \"The quick brown fox jumps over the lazy dog.\"\n",
    "string.capwords(s)"
   ]
  },
  {
   "cell_type": "markdown",
   "metadata": {},
   "source": [
    "# Example: Phonecode\n",
    "* Convert letters to numbers as seen on phones\n",
    "* Phone letters: 2 → ABC, 3 → DEF … 9 → WXYZ\n",
    "* For instance, BUYME is 28963"
   ]
  },
  {
   "cell_type": "code",
   "execution_count": 27,
   "metadata": {
    "collapsed": false
   },
   "outputs": [
    {
     "data": {
      "text/plain": [
       "'T43 78425 27696 369 58677 6837 843 5299 364.'"
      ]
     },
     "execution_count": 27,
     "metadata": {},
     "output_type": "execute_result"
    }
   ],
   "source": [
    "phonecode_lower = str.maketrans(string.ascii_lowercase, '22233344455566677778889999')\n",
    "phonecode_upper = str.maketrans(string.ascii_uppercase, '22233344455566677778889999')\n",
    "s.translate(phonecode_lower)"
   ]
  },
  {
   "cell_type": "markdown",
   "metadata": {},
   "source": [
    "## Exercise\n",
    "How would you convert both upper and lowercase to phonecode?"
   ]
  },
  {
   "cell_type": "code",
   "execution_count": null,
   "metadata": {
    "collapsed": false
   },
   "outputs": [],
   "source": []
  },
  {
   "cell_type": "markdown",
   "metadata": {},
   "source": [
    "# textwrap\n",
    "* Useful for pretty printing paragraphs\n",
    "* Wrapping is provided automatically"
   ]
  },
  {
   "cell_type": "code",
   "execution_count": 36,
   "metadata": {
    "collapsed": false
   },
   "outputs": [
    {
     "name": "stdout",
     "output_type": "stream",
     "text": [
      "This is a\n",
      "really\n",
      "long\n",
      "rambling\n",
      "sentence\n",
      "with no\n",
      "end in\n",
      "sight.\n",
      "This\n",
      "sentence\n",
      "is going\n",
      "to put\n",
      "people to\n",
      "sleep\n",
      "\n",
      "This is a really long rambling sentence with no\n",
      "end in sight. This sentence is going to put people\n",
      "to sleep\n"
     ]
    }
   ],
   "source": [
    "import textwrap\n",
    "sample_text=\"This is a really long rambling sentence with no end in sight. This sentence is going to put people to sleep\"\n",
    "textwrap.fill(sample_text,width=10)\n",
    "print(textwrap.fill(sample_text,width=10))\n",
    "print()\n",
    "print(textwrap.fill(sample_text,width=50))"
   ]
  },
  {
   "cell_type": "markdown",
   "metadata": {},
   "source": [
    "# Decimal\n",
    "* Module for arbitrary precision arithmetic of floating point"
   ]
  },
  {
   "cell_type": "code",
   "execution_count": 37,
   "metadata": {
    "collapsed": false
   },
   "outputs": [
    {
     "name": "stdout",
     "output_type": "stream",
     "text": [
      "0.09999999000000001\n",
      "0.099999999\n",
      "0.09999999990000001\n"
     ]
    }
   ],
   "source": [
    "print(0.1-0.00000001)\n",
    "print(0.1-0.000000001)\n",
    "print(0.1-0.0000000001)"
   ]
  },
  {
   "cell_type": "markdown",
   "metadata": {},
   "source": [
    "# With decimal"
   ]
  },
  {
   "cell_type": "code",
   "execution_count": 51,
   "metadata": {
    "collapsed": false
   },
   "outputs": [
    {
     "data": {
      "text/plain": [
       "tuple"
      ]
     },
     "execution_count": 51,
     "metadata": {},
     "output_type": "execute_result"
    }
   ],
   "source": [
    "import decimal\n",
    "a=(0,(1,0),-2)\n",
    "b=(0,(1,0),-9)\n",
    "type(a)"
   ]
  },
  {
   "cell_type": "markdown",
   "metadata": {},
   "source": [
    "* Construct a tuple with sign, digits and exponent"
   ]
  },
  {
   "cell_type": "code",
   "execution_count": 52,
   "metadata": {
    "collapsed": false
   },
   "outputs": [
    {
     "data": {
      "text/plain": [
       "Decimal('0.099999990')"
      ]
     },
     "execution_count": 52,
     "metadata": {},
     "output_type": "execute_result"
    }
   ],
   "source": [
    "ad = decimal.Decimal(a)\n",
    "bd = decimal.Decimal(b)\n",
    "type(ad)\n",
    "ad - bd"
   ]
  },
  {
   "cell_type": "markdown",
   "metadata": {},
   "source": [
    "# Contexts, Setting precision"
   ]
  },
  {
   "cell_type": "code",
   "execution_count": 55,
   "metadata": {
    "collapsed": false
   },
   "outputs": [
    {
     "name": "stdout",
     "output_type": "stream",
     "text": [
      "Context(prec=28, rounding=ROUND_HALF_EVEN, Emin=-999999, Emax=999999, capitals=1, clamp=0, flags=[Inexact, Rounded], traps=[InvalidOperation, DivisionByZero, Overflow])\n",
      "0.33333333333333333333\n",
      "0.3333333333333333333333333333333333333333\n",
      "0.6666666666666666666666666666666666666666\n",
      "1.333333333333333333333333333333333333333\n",
      "1.333333333333333333333333333333333333333\n"
     ]
    }
   ],
   "source": [
    "from decimal import *\n",
    "print(getcontext())\n",
    "getcontext().prec=20\n",
    "cd = decimal.Decimal((0,(3,0),-1))\n",
    "print(1/cd)\n",
    "getcontext().prec=40\n",
    "print(1/cd)\n",
    "print(1/cd+1/cd)\n",
    "print(1/cd+1/cd*3)\n",
    "print(1/cd+1)\n",
    "#print(1/cd+1.0)"
   ]
  },
  {
   "cell_type": "markdown",
   "metadata": {},
   "source": [
    "# Setting precision locally"
   ]
  },
  {
   "cell_type": "code",
   "execution_count": 56,
   "metadata": {
    "collapsed": false
   },
   "outputs": [
    {
     "name": "stdout",
     "output_type": "stream",
     "text": [
      "1.0\n",
      "Local Precision: 2\n",
      "Default precision: 40\n",
      "1.047166666666666666666666666666666666667\n"
     ]
    }
   ],
   "source": [
    "with decimal.localcontext() as c:\n",
    "   c.prec=2\n",
    "   print(decimal.Decimal('3.1415')/3)\n",
    "   print('Local Precision:', c.prec)\n",
    "print('Default precision:',decimal.getcontext().prec)\n",
    "print(decimal.Decimal('3.1415')/3)"
   ]
  },
  {
   "cell_type": "markdown",
   "metadata": {},
   "source": [
    "* `c` has a local context. Changes to `c` is not propagated to rest of code.\n",
    "* Can set several contexts within same code"
   ]
  },
  {
   "cell_type": "markdown",
   "metadata": {},
   "source": [
    "# Per-instance context"
   ]
  },
  {
   "cell_type": "markdown",
   "metadata": {},
   "source": [
    "* Variables can also carry contexts with them.\n",
    "* Operations with the variable will have that context\n",
    "* Mixing two contexts, with two different precisions, will give higher precision of the two"
   ]
  },
  {
   "cell_type": "code",
   "execution_count": 57,
   "metadata": {
    "collapsed": false
   },
   "outputs": [
    {
     "name": "stdout",
     "output_type": "stream",
     "text": [
      "PI: 3.14\n",
      "RESULT: 6.3114\n"
     ]
    }
   ],
   "source": [
    "import decimal\n",
    "c = decimal.getcontext().copy()\n",
    "c.prec = 3\n",
    "pi = c.create_decimal('3.1415')\n",
    "print('PI:', pi)\n",
    "print('RESULT:', decimal.Decimal('2.01') * pi)"
   ]
  },
  {
   "cell_type": "markdown",
   "metadata": {},
   "source": [
    "# Fractions\n",
    "* See fraction module also\n",
    "* Numerator, denominator combination\n",
    "* All operations are done with numerator, denominator\n",
    "* Can convert fractions to floats and vice versa"
   ]
  },
  {
   "cell_type": "markdown",
   "metadata": {},
   "source": [
    "# Random"
   ]
  },
  {
   "cell_type": "code",
   "execution_count": 78,
   "metadata": {
    "collapsed": false
   },
   "outputs": [
    {
     "name": "stdout",
     "output_type": "stream",
     "text": [
      "0.375986267407762\n",
      "0.9822428719391535\n",
      "0.38350504617783177\n",
      "0.5204510064900055\n",
      "0.9695754537075303\n"
     ]
    }
   ],
   "source": [
    "import random\n",
    "for i in range(5):\n",
    "    print(random.random())"
   ]
  },
  {
   "cell_type": "markdown",
   "metadata": {},
   "source": [
    "* Repeat once more"
   ]
  },
  {
   "cell_type": "code",
   "execution_count": 79,
   "metadata": {
    "collapsed": false
   },
   "outputs": [
    {
     "name": "stdout",
     "output_type": "stream",
     "text": [
      "0.3826451857969857\n",
      "0.0925560235163857\n",
      "0.6164335402984279\n",
      "0.9277889298403925\n",
      "0.6115379823420043\n"
     ]
    }
   ],
   "source": [
    "for i in range(5):\n",
    "    print(random.random())"
   ]
  },
  {
   "cell_type": "markdown",
   "metadata": {},
   "source": [
    "* You get different values\n",
    "* For uniform random numbers:"
   ]
  },
  {
   "cell_type": "code",
   "execution_count": 76,
   "metadata": {
    "collapsed": false
   },
   "outputs": [
    {
     "name": "stdout",
     "output_type": "stream",
     "text": [
      "66.17157363319582\n",
      "72.20459802681887\n",
      "10.729644905406404\n",
      "22.906417534384897\n",
      "58.7214199147031\n"
     ]
    }
   ],
   "source": [
    "for i in range(5):\n",
    "    print(random.uniform(1,100))"
   ]
  },
  {
   "cell_type": "markdown",
   "metadata": {},
   "source": [
    "# Setting seeds\n",
    "* Sometimes you want to repeat experiments\n",
    "* Set a seed and use it for debug/design phase\n",
    "* Remove seed and deploy"
   ]
  },
  {
   "cell_type": "code",
   "execution_count": 86,
   "metadata": {
    "collapsed": false
   },
   "outputs": [
    {
     "name": "stdout",
     "output_type": "stream",
     "text": [
      "14.30206016712772\n",
      "84.89593995678604\n",
      "76.6136872786848\n",
      "26.251833548202747\n",
      "50.04807362210215\n"
     ]
    }
   ],
   "source": [
    "random.seed(1)\n",
    "for i in range(5):\n",
    "   print(random.uniform(1,100))"
   ]
  },
  {
   "cell_type": "markdown",
   "metadata": {},
   "source": [
    "* Run it again?"
   ]
  },
  {
   "cell_type": "markdown",
   "metadata": {},
   "source": [
    "# Random Integers"
   ]
  },
  {
   "cell_type": "code",
   "execution_count": 102,
   "metadata": {
    "collapsed": false
   },
   "outputs": [
    {
     "name": "stdout",
     "output_type": "stream",
     "text": [
      "63\n",
      "94\n",
      "4\n",
      "\n",
      "[-5, 5]:2\n",
      "-5\n",
      "-1\n",
      "\n"
     ]
    }
   ],
   "source": [
    "for i in range(3):\n",
    "    print(random.randint(1, 100))\n",
    "print('\\n[-5, 5]:', end=\"\")\n",
    "for i in range(3):\n",
    "    print(random.randint(-5, 5))\n",
    "print()"
   ]
  },
  {
   "cell_type": "markdown",
   "metadata": {},
   "source": [
    "# Random elements from a range"
   ]
  },
  {
   "cell_type": "code",
   "execution_count": 107,
   "metadata": {
    "collapsed": false
   },
   "outputs": [
    {
     "name": "stdout",
     "output_type": "stream",
     "text": [
      "85\n",
      "35\n",
      "60\n"
     ]
    }
   ],
   "source": [
    "import random\n",
    "for i in range(3):\n",
    "    print(random.randrange(0, 101, 5))"
   ]
  },
  {
   "cell_type": "markdown",
   "metadata": {},
   "source": [
    "* randrange supports a step argument\n",
    "* More efficient because range is not fully constructed"
   ]
  },
  {
   "cell_type": "markdown",
   "metadata": {},
   "source": [
    "# Picking random items"
   ]
  },
  {
   "cell_type": "code",
   "execution_count": 109,
   "metadata": {
    "collapsed": false
   },
   "outputs": [
    {
     "name": "stdout",
     "output_type": "stream",
     "text": [
      "Heads: 4980\n",
      "Tails: 5020\n"
     ]
    }
   ],
   "source": [
    "import random\n",
    "import itertools\n",
    "outcomes = { 'heads':0, 'tails':0,}\n",
    "sides = list(outcomes.keys())\n",
    "\n",
    "for i in range(10000):\n",
    "     outcomes[ random.choice(sides) ] += 1\n",
    "print('Heads:', outcomes['heads'])\n",
    "print('Tails:', outcomes['tails'])"
   ]
  },
  {
   "cell_type": "markdown",
   "metadata": {},
   "source": [
    "* `choice()` selects randomly from a sequence"
   ]
  },
  {
   "cell_type": "markdown",
   "metadata": {},
   "source": [
    "# Sampling\n",
    "* Sampling from a population\n",
    "* sample() function generates samples without repeating values\n",
    "* Does not modify input sequence"
   ]
  },
  {
   "cell_type": "code",
   "execution_count": 114,
   "metadata": {
    "collapsed": false
   },
   "outputs": [
    {
     "name": "stdout",
     "output_type": "stream",
     "text": [
      "mismanage\n",
      "Alexander\n",
      "unbeknown\n",
      "poets\n",
      "fatheads\n"
     ]
    }
   ],
   "source": [
    "import random\n",
    "with open('/usr/share/dict/words', 'rt') as f:\n",
    "   words = f.readlines()\n",
    "words = [ w.rstrip() for w in words ]\n",
    "for w in random.sample(words, 5):\n",
    "    print(w)"
   ]
  },
  {
   "cell_type": "markdown",
   "metadata": {},
   "source": [
    "# math library\n",
    "* `math` has several mathematical functions\n",
    "* whatever you expect from a math library\n",
    "* Take a look!\n"
   ]
  },
  {
   "cell_type": "markdown",
   "metadata": {},
   "source": [
    "# File System\n",
    "* Python has several tools to work with files\n",
    "* Common operations like looking at file contents, building filenames, parsing file names, traversing directories\n",
    "* Filenames are represented as simple strings\n",
    "* Strings can be built from platform independent components in os.path\n",
    "  - For example, to deal with / in Unix vs. \\ in Windows"
   ]
  },
  {
   "cell_type": "markdown",
   "metadata": {},
   "source": [
    "# os.path\n",
    "* Platform independent operations for file manipulation\n",
    "* Even if you are not planning to port your application to another platform, use `os.path`\n"
   ]
  },
  {
   "cell_type": "markdown",
   "metadata": {},
   "source": [
    "# Parsing Paths\n",
    "* **os.sep** —The separator between portions of the path (e.g., “ / ” or “ \\ ”).\n",
    "* **os.extsep** —The separator between a filename and the file “extension” (e.g.,“ . ”).\n",
    "* **os.pardir** —The path component that means traverse the directory tree up one level (e.g., “ .. ”).\n",
    "* **os.curdir** —The path component that refers to the current directory (e.g., “ . ”)."
   ]
  },
  {
   "cell_type": "markdown",
   "metadata": {},
   "source": [
    "# os.path.split\n",
    "* `split()` breaks the path into two separate parts\n",
    "* returns a tuple"
   ]
  },
  {
   "cell_type": "code",
   "execution_count": 56,
   "metadata": {
    "collapsed": false
   },
   "outputs": [
    {
     "name": "stdout",
     "output_type": "stream",
     "text": [
      " /one/two/three : ('/one/two', 'three')\n",
      "/one/two/three/ : ('/one/two/three', '')\n",
      "              / : ('/', '')\n",
      "              . : ('', '.')\n",
      "                : ('', '')\n"
     ]
    }
   ],
   "source": [
    "import os.path\n",
    "for path in [ '/one/two/three',  '/one/two/three/',\n",
    "    '/',  '.',\n",
    "    '']:\n",
    "        print('%15s : %s' % (path, os.path.split(path)))"
   ]
  },
  {
   "cell_type": "markdown",
   "metadata": {},
   "source": [
    "# os.path.splitext and os.path.commonprefix\n",
    "* os.path.splitext() splits on ext\n",
    "* gives filename and extension separately\n",
    "* os.path.commonprefix() gives common prefix of paths passed as argument\n",
    "* Example:"
   ]
  },
  {
   "cell_type": "code",
   "execution_count": 57,
   "metadata": {
    "collapsed": false
   },
   "outputs": [
    {
     "data": {
      "text/plain": [
       "'/one/two'"
      ]
     },
     "execution_count": 57,
     "metadata": {},
     "output_type": "execute_result"
    }
   ],
   "source": [
    "paths=[\"/one/two/three\",\"/one/two\", \"/one/two/three/a.txt\"]\n",
    "os.path.commonprefix(paths)"
   ]
  },
  {
   "cell_type": "markdown",
   "metadata": {},
   "source": [
    "# Building Paths\n",
    "* To combine several path components, use `join()`\n",
    "* If any argument to `join()` begins with `os.sep`, all previous arguments are discarded\n",
    "* New one becomes the beginning of return value"
   ]
  },
  {
   "cell_type": "code",
   "execution_count": 59,
   "metadata": {
    "collapsed": false
   },
   "outputs": [
    {
     "name": "stdout",
     "output_type": "stream",
     "text": [
      "('one', 'two', 'three') : one/two/three\n",
      "('/', 'one', 'two', 'three') : /one/two/three\n",
      "('/one', '/two', '/three') : /three\n"
     ]
    }
   ],
   "source": [
    "import os.path\n",
    "for parts in [ ('one', 'two', 'three'), ('/', 'one', 'two', 'three'),\n",
    "               ('/one', '/two', '/three'),\n",
    "]:\n",
    "    print(parts, ':', os.path.join(*parts))"
   ]
  },
  {
   "cell_type": "markdown",
   "metadata": {},
   "source": [
    "# Normalizing Paths\n",
    "\n",
    "* Strings from different joins can end up with - `/one/two//three/four` - `/one/./two/three/./four`\n",
    "* Normalization removes these cases\n",
    "* `os.path.normpath(path)`\n",
    "* Try on\n",
    "  - `one/../two/three`\n",
    "  - `one/./two/three`\n",
    "  - `one//two//./three`"
   ]
  },
  {
   "cell_type": "markdown",
   "metadata": {},
   "source": [
    "# Traversing a Directory\n",
    "* `os.walk(top, func, arg)`\n",
    "* Walks from the top directory to each of the subdirectories"
   ]
  },
  {
   "cell_type": "code",
   "execution_count": 118,
   "metadata": {
    "collapsed": false
   },
   "outputs": [
    {
     "name": "stdout",
     "output_type": "stream",
     "text": [
      "example ['one'] ['two.txt']\n",
      "example/one [] ['file2.txt', 'file.txt']\n"
     ]
    }
   ],
   "source": [
    "import os\n",
    "if not os.path.exists('example'):\n",
    "    os.mkdir('example')\n",
    "if not os.path.exists('example/one'):\n",
    "    os.mkdir('example/one')\n",
    "with open('example/one/file.txt', 'wt') as f:\n",
    "    f.write('contents')\n",
    "with open('example/two.txt', 'wt') as f:\n",
    "    f.write('contents')\n",
    "for root,dirs,files in os.walk('example'):\n",
    "    print(root, dirs, files)"
   ]
  },
  {
   "cell_type": "markdown",
   "metadata": {},
   "source": [
    "# glob\n",
    "* To find filenames which match a pattern\n",
    "* Packs a lot of power\n",
    "* Can use to find files that have a certain extension, prefix or some pattern in the middle\n",
    "* **DO NOT** write custom code"
   ]
  },
  {
   "cell_type": "code",
   "execution_count": 124,
   "metadata": {
    "collapsed": false
   },
   "outputs": [
    {
     "name": "stdout",
     "output_type": "stream",
     "text": [
      "example/two.txt\n",
      "example/one\n"
     ]
    }
   ],
   "source": [
    "import glob\n",
    "for name in glob.glob('example/*'):\n",
    "     print(name)"
   ]
  },
  {
   "cell_type": "markdown",
   "metadata": {},
   "source": [
    "* Prints all the contents of `example` directory\n",
    "* Does not recurse\n",
    "* To list contents of a subdirectory, pattern must be listed"
   ]
  },
  {
   "cell_type": "code",
   "execution_count": 74,
   "metadata": {
    "collapsed": false
   },
   "outputs": [
    {
     "name": "stdout",
     "output_type": "stream",
     "text": [
      "example/two.txt\n"
     ]
    }
   ],
   "source": [
    "for name in glob.glob('example/*w*.txt'):\n",
    "    print(name)"
   ]
  },
  {
   "cell_type": "markdown",
   "metadata": {},
   "source": [
    "# shutil\n",
    "* Useful for high level file operations\n",
    "  - Copy files\n",
    "  - Set permissions etc.\n",
    "* `import shutil`\n",
    "* Some important ones:\n",
    "  - `copy()`, `copy2()`, `copytree()`, `rmtree()`, `stat()`, `make_archive()`"
   ]
  },
  {
   "cell_type": "markdown",
   "metadata": {},
   "source": [
    "# sys\n",
    "* Probe or change the configuration of the Python interpreter\n",
    "* Interact with the environment"
   ]
  },
  {
   "cell_type": "code",
   "execution_count": 76,
   "metadata": {
    "collapsed": false
   },
   "outputs": [
    {
     "name": "stdout",
     "output_type": "stream",
     "text": [
      "3.5.2+ (default, Aug  5 2016, 08:07:14) \n",
      "[GCC 6.1.1 20160724]\n",
      "linux\n",
      "sys.flags(debug=0, inspect=0, interactive=0, optimize=0, dont_write_bytecode=0, no_user_site=0, no_site=0, ignore_environment=0, verbose=0, bytes_warning=0, quiet=0, hash_randomization=1, isolated=0)\n"
     ]
    }
   ],
   "source": [
    "import sys\n",
    "\n",
    "print(sys.version)\n",
    "print(sys.platform)\n",
    "print(sys.flags)"
   ]
  },
  {
   "cell_type": "markdown",
   "metadata": {},
   "source": [
    "# Runtime Environment with sys\n",
    "* `sys.argv`\n",
    "* Example:"
   ]
  },
  {
   "cell_type": "code",
   "execution_count": 125,
   "metadata": {
    "collapsed": false
   },
   "outputs": [
    {
     "name": "stdout",
     "output_type": "stream",
     "text": [
      "['/home/kumar/.local/lib/python3.5/site-packages/ipykernel/__main__.py', '-f', '/run/user/1000/jupyter/kernel-96e3a7ca-f2a2-49d0-bd4d-d3b0a0dfd132.json']\n"
     ]
    }
   ],
   "source": [
    "import sys\n",
    "print(sys.argv)"
   ]
  },
  {
   "cell_type": "markdown",
   "metadata": {},
   "source": [
    "* Save the contents in \"sysargs.py\"\n",
    "* Then run\n",
    "  - `python sysargs.py`\n",
    "  - `python sysargs.py -l`\n",
    "  - `python sysargs -l -a`"
   ]
  },
  {
   "cell_type": "markdown",
   "metadata": {},
   "source": [
    "# Input and Output Streams\n",
    "* Following Unix philosophy, can access stdin, stdout and stderr"
   ]
  },
  {
   "cell_type": "code",
   "execution_count": 126,
   "metadata": {
    "collapsed": false
   },
   "outputs": [
    {
     "name": "stderr",
     "output_type": "stream",
     "text": [
      "STATUS: Reading from stdin\n",
      "STATUS: Writing data to stdout\n",
      "STATUS: Done\n"
     ]
    }
   ],
   "source": [
    "import sys\n",
    "print('STATUS: Reading from stdin', file=sys.stderr)\n",
    "data = sys.stdin.read()\n",
    "print('STATUS: Writing data to stdout', file=sys.stderr)\n",
    "sys.stdout.write(data)\n",
    "sys.stdout.flush()\n",
    "print('STATUS: Done', file=sys.stderr)"
   ]
  },
  {
   "cell_type": "markdown",
   "metadata": {},
   "source": [
    "# Exit Code\n",
    "* Convention that a program exits with 0 as error code on clean exit\n",
    "* Non-zero for other exits\n",
    "* Example: Write a program that expects a number less than 5 as input"
   ]
  },
  {
   "cell_type": "code",
   "execution_count": null,
   "metadata": {
    "collapsed": true
   },
   "outputs": [],
   "source": [
    "import sys\n",
    "num = int(sys.argv[1]);\n",
    "if(num<5):\n",
    "    sys.exit(0);\n",
    "else:\n",
    "    sys.exit(1);"
   ]
  },
  {
   "cell_type": "markdown",
   "metadata": {},
   "source": [
    "# Memory Management\n",
    "* `sys.getrefcount()`\n",
    "* `sys.getsizeof()`"
   ]
  },
  {
   "cell_type": "markdown",
   "metadata": {},
   "source": [
    "# Refcount\n",
    "\n",
    "* Python references to an object are counted\n",
    "* Object is deleted automatically if refcount hits 0"
   ]
  },
  {
   "cell_type": "code",
   "execution_count": 79,
   "metadata": {
    "collapsed": false
   },
   "outputs": [
    {
     "name": "stdout",
     "output_type": "stream",
     "text": [
      "At start         : 2\n",
      "Second reference : 3\n",
      "After del        : 2\n"
     ]
    }
   ],
   "source": [
    "import sys\n",
    "one = []\n",
    "print('At start         :', sys.getrefcount(one))\n",
    "two = one\n",
    "print('Second reference :', sys.getrefcount(one))\n",
    "del two\n",
    "print('After del        :', sys.getrefcount(one))"
   ]
  },
  {
   "cell_type": "markdown",
   "metadata": {},
   "source": [
    "# Object Sizes"
   ]
  },
  {
   "cell_type": "code",
   "execution_count": 80,
   "metadata": {
    "collapsed": false
   },
   "outputs": [
    {
     "name": "stdout",
     "output_type": "stream",
     "text": [
      "      list : 64\n",
      "     tuple : 48\n",
      "      dict : 288\n",
      "       str : 50\n",
      "       str : 55\n",
      "       int : 28\n",
      "     float : 24\n"
     ]
    }
   ],
   "source": [
    "import sys\n",
    "\n",
    "for obj in [ [], (), {}, 'c', 'string', 1, 2.3,\n",
    "         ]:\n",
    "    print('%10s : %s' % (type(obj).__name__, sys.getsizeof(obj)))"
   ]
  },
  {
   "cell_type": "markdown",
   "metadata": {},
   "source": [
    "* Caution: Reporting size of a custom class does not include size of the attributes"
   ]
  },
  {
   "cell_type": "markdown",
   "metadata": {},
   "source": [
    "# sizeof Attributes"
   ]
  },
  {
   "cell_type": "code",
   "execution_count": 82,
   "metadata": {
    "collapsed": false
   },
   "outputs": [
    {
     "name": "stdout",
     "output_type": "stream",
     "text": [
      "102\n"
     ]
    }
   ],
   "source": [
    "import sys\n",
    "class myClass(object):\n",
    "     def __init__(self):\n",
    "         self.a='a';\n",
    "         self.b=int(120)\n",
    "         self.c=float(10.5)\n",
    "\n",
    "myInst = myClass()\n",
    "myInst.__dict__.values()\n",
    "\n",
    "print(sum(sys.getsizeof(v) for v in myInst.__dict__.values()))"
   ]
  },
  {
   "cell_type": "markdown",
   "metadata": {},
   "source": [
    "## Exercise\n",
    "* Should write `__sizeof__` so that it adds up\n",
    "* Get size of the custom class that we wrote before\n",
    "* Use `object.__sizeof__(self)` to get size of the `object` class. sys.getsizeof(myInst) should work"
   ]
  },
  {
   "cell_type": "markdown",
   "metadata": {},
   "source": [
    "# Ints and Floats\n",
    "* `sys.maxint`\n",
    "* `sys.maxsize`\n",
    "* `sys.float_info.*` - Has several important constants related to floating point values - Stuff usually found in float.h"
   ]
  },
  {
   "cell_type": "markdown",
   "metadata": {},
   "source": [
    "# Modules\n",
    "* `sys.modules.keys()` - All the modules included so far, changes dynamically\n",
    "* `sys.builtin_module_names` - All builtin modules\n",
    "* `sys.path` - Path of the modules"
   ]
  },
  {
   "cell_type": "markdown",
   "metadata": {},
   "source": [
    "# URL Library\n",
    "* urllib\n",
    "  - Provides powerful methods for accessing URLs"
   ]
  },
  {
   "cell_type": "markdown",
   "metadata": {},
   "source": [
    "# Example\n",
    "* Let us get class web page and some relevant information from Madhu Belur's course page"
   ]
  },
  {
   "cell_type": "code",
   "execution_count": 86,
   "metadata": {
    "collapsed": false
   },
   "outputs": [
    {
     "name": "stdout",
     "output_type": "stream",
     "text": [
      "<http.client.HTTPResponse object at 0x7fe6a9bbf5c0>\n",
      "Date: Fri, 19 Aug 2016 10:44:06 GMT\n",
      "Server: Apache/2.2.3 (Red Hat)\n",
      "Last-Modified: Tue, 02 Aug 2016 08:25:50 GMT\n",
      "ETag: \"56600b5-4047-5391276dddf80\"\n",
      "Accept-Ranges: bytes\n",
      "Content-Length: 16455\n",
      "Connection: close\n",
      "Content-Type: text/html; charset=UTF-8\n",
      "\n",
      "\n",
      "Fri, 19 Aug 2016 10:44:06 GMT\n",
      "Date: Fri, 19 Aug 2016 10:44:06 GMT\n",
      "Server: Apache/2.2.3 (Red Hat)\n",
      "Last-Modified: Tue, 02 Aug 2016 08:25:50 GMT\n",
      "ETag: \"56600b5-4047-5391276dddf80\"\n",
      "Accept-Ranges: bytes\n",
      "Content-Length: 16455\n",
      "Connection: close\n",
      "Content-Type: text/html; charset=UTF-8\n",
      "\n",
      "\n",
      "[b'<?xml version=\"1.0\" encoding=\"utf-8\" ?>\\n', b'<!DOCTYPE html PUBLIC \"-//W3C//DTD XHTML 1.0 Transitional//EN\" \"http://www.w3.org/TR/xhtml1/DTD/xhtml1-transitional.dtd\">\\n', b'<html xmlns=\"http://www.w3.org/1999/xhtml\" xml:lang=\"en\" lang=\"en\">\\n', b'<head>\\n', b'<meta http-equiv=\"Content-Type\" content=\"text/html; charset=utf-8\" />\\n', b'<meta name=\"generator\" content=\"Docutils 0.11: http://docutils.sourceforge.net/\" />\\n', b'<title>Homepage of AE663/AE425: Software Development Techniques in Engineering and Science</title>\\n', b'<style type=\"text/css\">\\n', b'\\n', b'/*\\n', b':Author: David Goodger (goodger@python.org)\\n', b':Id: $Id: html4css1.css 7614 2013-02-21 15:55:51Z milde $\\n', b':Copyright: This stylesheet has been placed in the public domain.\\n', b'\\n', b'Default cascading style sheet for the HTML output of Docutils.\\n', b'\\n', b'See http://docutils.sf.net/docs/howto/html-stylesheets.html for how to\\n', b'customize this style sheet.\\n', b'*/\\n', b'\\n', b'/* used to remove borders from tables and images */\\n', b'.borderless, table.borderless td, table.borderless th {\\n', b'  border: 0 }\\n', b'\\n', b'table.borderless td, table.borderless th {\\n', b'  /* Override padding for \"table.docutils td\" with \"! important\".\\n', b'     The right padding separates the table cells. */\\n', b'  padding: 0 0.5em 0 0 ! important }\\n', b'\\n', b'.first {\\n', b'  /* Override more specific margin styles with \"! important\". */\\n', b'  margin-top: 0 ! important }\\n', b'\\n', b'.last, .with-subtitle {\\n', b'  margin-bottom: 0 ! important }\\n', b'\\n', b'.hidden {\\n', b'  display: none }\\n', b'\\n', b'a.toc-backref {\\n', b'  text-decoration: none ;\\n', b'  color: black }\\n', b'\\n', b'blockquote.epigraph {\\n', b'  margin: 2em 5em ; }\\n', b'\\n', b'dl.docutils dd {\\n', b'  margin-bottom: 0.5em }\\n', b'\\n', b'object[type=\"image/svg+xml\"], object[type=\"application/x-shockwave-flash\"] {\\n', b'  overflow: hidden;\\n', b'}\\n', b'\\n', b'/* Uncomment (and remove this text!) to get bold-faced definition list terms\\n', b'dl.docutils dt {\\n', b'  font-weight: bold }\\n', b'*/\\n', b'\\n', b'div.abstract {\\n', b'  margin: 2em 5em }\\n', b'\\n', b'div.abstract p.topic-title {\\n', b'  font-weight: bold ;\\n', b'  text-align: center }\\n', b'\\n', b'div.admonition, div.attention, div.caution, div.danger, div.error,\\n', b'div.hint, div.important, div.note, div.tip, div.warning {\\n', b'  margin: 2em ;\\n', b'  border: medium outset ;\\n', b'  padding: 1em }\\n', b'\\n', b'div.admonition p.admonition-title, div.hint p.admonition-title,\\n', b'div.important p.admonition-title, div.note p.admonition-title,\\n', b'div.tip p.admonition-title {\\n', b'  font-weight: bold ;\\n', b'  font-family: sans-serif }\\n', b'\\n', b'div.attention p.admonition-title, div.caution p.admonition-title,\\n', b'div.danger p.admonition-title, div.error p.admonition-title,\\n', b'div.warning p.admonition-title, .code .error {\\n', b'  color: red ;\\n', b'  font-weight: bold ;\\n', b'  font-family: sans-serif }\\n', b'\\n', b'/* Uncomment (and remove this text!) to get reduced vertical space in\\n', b'   compound paragraphs.\\n', b'div.compound .compound-first, div.compound .compound-middle {\\n', b'  margin-bottom: 0.5em }\\n', b'\\n', b'div.compound .compound-last, div.compound .compound-middle {\\n', b'  margin-top: 0.5em }\\n', b'*/\\n', b'\\n', b'div.dedication {\\n', b'  margin: 2em 5em ;\\n', b'  text-align: center ;\\n', b'  font-style: italic }\\n', b'\\n', b'div.dedication p.topic-title {\\n', b'  font-weight: bold ;\\n', b'  font-style: normal }\\n', b'\\n', b'div.figure {\\n', b'  margin-left: 2em ;\\n', b'  margin-right: 2em }\\n', b'\\n', b'div.footer, div.header {\\n', b'  clear: both;\\n', b'  font-size: smaller }\\n', b'\\n', b'div.line-block {\\n', b'  display: block ;\\n', b'  margin-top: 1em ;\\n', b'  margin-bottom: 1em }\\n', b'\\n', b'div.line-block div.line-block {\\n', b'  margin-top: 0 ;\\n', b'  margin-bottom: 0 ;\\n', b'  margin-left: 1.5em }\\n', b'\\n', b'div.sidebar {\\n', b'  margin: 0 0 0.5em 1em ;\\n', b'  border: medium outset ;\\n', b'  padding: 1em ;\\n', b'  background-color: #ffffee ;\\n', b'  width: 40% ;\\n', b'  float: right ;\\n', b'  clear: right }\\n', b'\\n', b'div.sidebar p.rubric {\\n', b'  font-family: sans-serif ;\\n', b'  font-size: medium }\\n', b'\\n', b'div.system-messages {\\n', b'  margin: 5em }\\n', b'\\n', b'div.system-messages h1 {\\n', b'  color: red }\\n', b'\\n', b'div.system-message {\\n', b'  border: medium outset ;\\n', b'  padding: 1em }\\n', b'\\n', b'div.system-message p.system-message-title {\\n', b'  color: red ;\\n', b'  font-weight: bold }\\n', b'\\n', b'div.topic {\\n', b'  margin: 2em }\\n', b'\\n', b'h1.section-subtitle, h2.section-subtitle, h3.section-subtitle,\\n', b'h4.section-subtitle, h5.section-subtitle, h6.section-subtitle {\\n', b'  margin-top: 0.4em }\\n', b'\\n', b'h1.title {\\n', b'  text-align: center }\\n', b'\\n', b'h2.subtitle {\\n', b'  text-align: center }\\n', b'\\n', b'hr.docutils {\\n', b'  width: 75% }\\n', b'\\n', b'img.align-left, .figure.align-left, object.align-left {\\n', b'  clear: left ;\\n', b'  float: left ;\\n', b'  margin-right: 1em }\\n', b'\\n', b'img.align-right, .figure.align-right, object.align-right {\\n', b'  clear: right ;\\n', b'  float: right ;\\n', b'  margin-left: 1em }\\n', b'\\n', b'img.align-center, .figure.align-center, object.align-center {\\n', b'  display: block;\\n', b'  margin-left: auto;\\n', b'  margin-right: auto;\\n', b'}\\n', b'\\n', b'.align-left {\\n', b'  text-align: left }\\n', b'\\n', b'.align-center {\\n', b'  clear: both ;\\n', b'  text-align: center }\\n', b'\\n', b'.align-right {\\n', b'  text-align: right }\\n', b'\\n', b'/* reset inner alignment in figures */\\n', b'div.align-right {\\n', b'  text-align: inherit }\\n', b'\\n', b'/* div.align-center * { */\\n', b'/*   text-align: left } */\\n', b'\\n', b'ol.simple, ul.simple {\\n', b'  margin-bottom: 1em }\\n', b'\\n', b'ol.arabic {\\n', b'  list-style: decimal }\\n', b'\\n', b'ol.loweralpha {\\n', b'  list-style: lower-alpha }\\n', b'\\n', b'ol.upperalpha {\\n', b'  list-style: upper-alpha }\\n', b'\\n', b'ol.lowerroman {\\n', b'  list-style: lower-roman }\\n', b'\\n', b'ol.upperroman {\\n', b'  list-style: upper-roman }\\n', b'\\n', b'p.attribution {\\n', b'  text-align: right ;\\n', b'  margin-left: 50% }\\n', b'\\n', b'p.caption {\\n', b'  font-style: italic }\\n', b'\\n', b'p.credits {\\n', b'  font-style: italic ;\\n', b'  font-size: smaller }\\n', b'\\n', b'p.label {\\n', b'  white-space: nowrap }\\n', b'\\n', b'p.rubric {\\n', b'  font-weight: bold ;\\n', b'  font-size: larger ;\\n', b'  color: maroon ;\\n', b'  text-align: center }\\n', b'\\n', b'p.sidebar-title {\\n', b'  font-family: sans-serif ;\\n', b'  font-weight: bold ;\\n', b'  font-size: larger }\\n', b'\\n', b'p.sidebar-subtitle {\\n', b'  font-family: sans-serif ;\\n', b'  font-weight: bold }\\n', b'\\n', b'p.topic-title {\\n', b'  font-weight: bold }\\n', b'\\n', b'pre.address {\\n', b'  margin-bottom: 0 ;\\n', b'  margin-top: 0 ;\\n', b'  font: inherit }\\n', b'\\n', b'pre.literal-block, pre.doctest-block, pre.math, pre.code {\\n', b'  margin-left: 2em ;\\n', b'  margin-right: 2em }\\n', b'\\n', b'pre.code .ln { color: grey; } /* line numbers */\\n', b'pre.code, code { background-color: #eeeeee }\\n', b'pre.code .comment, code .comment { color: #5C6576 }\\n', b'pre.code .keyword, code .keyword { color: #3B0D06; font-weight: bold }\\n', b'pre.code .literal.string, code .literal.string { color: #0C5404 }\\n', b'pre.code .name.builtin, code .name.builtin { color: #352B84 }\\n', b'pre.code .deleted, code .deleted { background-color: #DEB0A1}\\n', b'pre.code .inserted, code .inserted { background-color: #A3D289}\\n', b'\\n', b'span.classifier {\\n', b'  font-family: sans-serif ;\\n', b'  font-style: oblique }\\n', b'\\n', b'span.classifier-delimiter {\\n', b'  font-family: sans-serif ;\\n', b'  font-weight: bold }\\n', b'\\n', b'span.interpreted {\\n', b'  font-family: sans-serif }\\n', b'\\n', b'span.option {\\n', b'  white-space: nowrap }\\n', b'\\n', b'span.pre {\\n', b'  white-space: pre }\\n', b'\\n', b'span.problematic {\\n', b'  color: red }\\n', b'\\n', b'span.section-subtitle {\\n', b'  /* font-size relative to parent (h1..h6 element) */\\n', b'  font-size: 80% }\\n', b'\\n', b'table.citation {\\n', b'  border-left: solid 1px gray;\\n', b'  margin-left: 1px }\\n', b'\\n', b'table.docinfo {\\n', b'  margin: 2em 4em }\\n', b'\\n', b'table.docutils {\\n', b'  margin-top: 0.5em ;\\n', b'  margin-bottom: 0.5em }\\n', b'\\n', b'table.footnote {\\n', b'  border-left: solid 1px black;\\n', b'  margin-left: 1px }\\n', b'\\n', b'table.docutils td, table.docutils th,\\n', b'table.docinfo td, table.docinfo th {\\n', b'  padding-left: 0.5em ;\\n', b'  padding-right: 0.5em ;\\n', b'  vertical-align: top }\\n', b'\\n', b'table.docutils th.field-name, table.docinfo th.docinfo-name {\\n', b'  font-weight: bold ;\\n', b'  text-align: left ;\\n', b'  white-space: nowrap ;\\n', b'  padding-left: 0 }\\n', b'\\n', b'/* \"booktabs\" style (no vertical lines) */\\n', b'table.docutils.booktabs {\\n', b'  border: 0px;\\n', b'  border-top: 2px solid;\\n', b'  border-bottom: 2px solid;\\n', b'  border-collapse: collapse;\\n', b'}\\n', b'table.docutils.booktabs * {\\n', b'  border: 0px;\\n', b'}\\n', b'table.docutils.booktabs th {\\n', b'  border-bottom: thin solid;\\n', b'  text-align: left;\\n', b'}\\n', b'\\n', b'h1 tt.docutils, h2 tt.docutils, h3 tt.docutils,\\n', b'h4 tt.docutils, h5 tt.docutils, h6 tt.docutils {\\n', b'  font-size: 100% }\\n', b'\\n', b'ul.auto-toc {\\n', b'  list-style-type: none }\\n', b'\\n', b'</style>\\n', b'</head>\\n', b'<body>\\n', b'<div class=\"document\" id=\"homepage-of-ae663-ae425-software-development-techniques-in-engineering-and-science\">\\n', b'<h1 class=\"title\">Homepage of AE663/AE425: Software Development Techniques in Engineering and Science</h1>\\n', b'<h2 class=\"subtitle\" id=\"announcements\">Announcements</h2>\\n', b'\\n', b'<p><strong>2nd Aug</strong>: We will have another bash test sometime soon (night post 8:30pm).\\n', b\"In future, if the server hangs beyond 10 minutes, please consider the test cancelled. Also visit this page to see announcements. Moodle emails don't come\\n\", b'immediately.  (It is awkward for us that students keep trying for an hour or so.)\\n', b'There is a bash assignment: submit this by Monday 8th Aug morning 8am.\\n', b'<a class=\"reference external\" href=\"http://www.ee.iitb.ac.in/~belur/sdes/bash-exercise16.html\">http://www.ee.iitb.ac.in/~belur/sdes/bash-exercise16.html</a></p>\\n', b\"<p><strong>1st Aug</strong>: There were server issues due to which the bash test didn't\\n\", b'happen smoothly for many students. Something will be worked out for\\n', b'all students again. Apologies.</p>\\n', b'<p><strong>27th July</strong>: Please practise the problems on Using-Linux-Tools and\\n', b'bash kept at\\n', b'<a class=\"reference external\" href=\"http://www.ee.iitb.ac.in/~belur/sdes/files/exercises-ult-bash-basic.txt\">http://www.ee.iitb.ac.in/~belur/sdes/files/exercises-ult-bash-basic.txt</a>\\n', b'We will have a test on Thursday (28th July) either in the class or later.\\n', b'Read the remaining slides (link below in the announcement of 21st July).\\n', b'More about pipe (|) and ampersand (&amp;) and also &quot;AND&quot; (&amp;&amp;) can be found\\n', b'at: <a class=\"reference external\" href=\"http://www.gnu.org/software/bash/manual/bashref.html#Lists\">http://www.gnu.org/software/bash/manual/bashref.html#Lists</a>.\\n', b'Thanks to Ashwith for pointing out a way to get just the header and\\n', b'also the <strong>rest</strong> sorted using pipe and &amp;&amp;. See above exercises.\\n', b'More about the pipe in the useful youtube video links he sent me:</p>\\n', b'<blockquote>\\n', b'<ol class=\"arabic simple\">\\n', b'<li>Brian Kernighan on the pipeline: <a class=\"reference external\" href=\"https://youtu.be/bKzonnwoR2I\">https://youtu.be/bKzonnwoR2I</a></li>\\n', b'<li>An older and detailed video with a concrete application: <a class=\"reference external\" href=\"https://youtu.be/tc4ROCJYbm0\">https://youtu.be/tc4ROCJYbm0</a></li>\\n', b'</ol>\\n', b'</blockquote>\\n', b'<p><strong>25th July</strong>: All attendees of the course SDES are required to\\n', b'enrol themselves into the AE 663 course\\n', b'on the iitb-moodle (at <a class=\"reference external\" href=\"http://moodle.iitb.ac.in\">http://moodle.iitb.ac.in</a>). Please use\\n', b'code &quot;sdes&quot; (without the quotes, all small) when prompted for a code.\\n', b'(Whether you are crediting/auditing AE 425 or not, we will\\n', b'use the moodle only of AE 663 to ensure that only one forum will\\n', b'be active and all assignments/announcements will be only on\\n', b'AE 663 moodle.) An email about this is being sent on 25th July\\n', b\"5pm. In case you didn't get the email, then (and only then) write\\n\", b'to me at belur-at-iitb-dot-ac-in. Thank you. -Madhu</p>\\n', b\"<p><strong>21st July</strong>: Today's class (at 5:30pm, in LCC 101) will start with\\n\", b'Linux-tools and the Bash shell. Please bring your laptops with\\n', b'GNU/Linux installed. With Ubuntu, we can start the terminal using\\n', b'Ctrl-Alt-t, but for other variants, the command might be different.\\n', b'Please look up how to start Bash in your OS and then come to the class.\\n', b'The slides are at:\\n', b'<a class=\"reference external\" href=\"http://www.ee.iitb.ac.in/~belur/sdes/files/3-ult-basic-bash-slides.pdf\">http://www.ee.iitb.ac.in/~belur/sdes/files/3-ult-basic-bash-slides.pdf</a></p>\\n', b'<p><strong>19th July</strong>: We had a careful look at the submitted codes and the marks.\\n', b'We have decided the cut-off and there will be <strong>no</strong> retest.</p>\\n', b'<blockquote>\\n', b'<ul class=\"simple\">\\n', b'<li>109 students appeared for the test as per the interface.</li>\\n', b'<li>101 students only were inside the classroom! We will return to the issue\\n', b'of these 8 students later.</li>\\n', b'<li>50 students out of 109 got 13 marks and above (out of 20).\\n', b'Only these are <strong>qualified</strong>.</li>\\n', b'<li>At most 5 minutes were lost. Most students lost just a minute or two.\\n', b'So no retest. The submitted version of each code that we used for\\n', b'for correction. There cannot be re-evaluation.</li>\\n', b'<li>If you are not selected in this course, please credit another and we welcome\\n', b'you to audit this course.</li>\\n', b'<li>By Saturday, we expect that each one of you can either login and see your\\n', b'submitted answers/codes, or we send you by email. They are visible\\n', b'to us in our user-interface, but not yet in a form that can be mass-sent to you\\n', b'individually.</li>\\n', b'</ul>\\n', b'</blockquote>\\n', b'<p>The list of students getting 13 or more marks is at:\\n', b'<a class=\"reference external\" href=\"http://www.ee.iitb.ac.in/~belur/sdes/crediting.html\">http://www.ee.iitb.ac.in/~belur/sdes/crediting.html</a></p>\\n', b'<p><strong>Venue for all classes</strong>: LC 101 (Lecture hall complex: KReSIT side)</p>\\n', b'<dl class=\"docutils\">\\n', b'<dt><strong>Please note:</strong></dt>\\n', b'<dd><ul class=\"first last simple\">\\n', b'<li>Please bring your own laptops for the test. Help towards installation of\\n', b'necessary packages <strong>cannot</strong> be provided in the class. Thank you for\\n', b'coming on 17th evening and making good use of the mock-test.</li>\\n', b'<li>Only those participants who qualify the test will be allowed to credit the\\n', b'course. Others can audit or sit-through.</li>\\n', b'<li>CS students (either UG or PG) cannot <em>credit</em> the course. Only the\\n', b'audit option is available to them.</li>\\n', b'</ul>\\n', b'</dd>\\n', b'</dl>\\n', b'<p>Syllabus for the qualifying test (as sent in the email):</p>\\n', b'<dl class=\"docutils\">\\n', b'<dt>Basic Python:</dt>\\n', b'<dd><ul class=\"first last simple\">\\n', b'<li>basic types (int, float, complex, bools)</li>\\n', b'<li>basic containers (list, dictionaries)</li>\\n', b'<li>functions, returning output</li>\\n', b'<li>for, while loops, if-elif-else</li>\\n', b'</ul>\\n', b'</dd>\\n', b'</dl>\\n', b'<p>(Though the course has topics other than Python and Advanced topics\\n', b'within Python, our elimination test is only on Basic Python: in particular\\n', b'the above topics.)</p>\\n', b'<p>The test will be held on the first day of the class. (As soon as the timetable\\n', b'is announced, this page will be updated. Most likely, the test is on 18th July,\\n', b'Monday, at 5:30pm). The test is on basic python and candidates are required\\n', b'to bring their own laptop for the test and have to have their own laptop\\n', b'throughout the course. Please arrange to borrow a laptop from your friend\\n', b'for each class if you do not have one.</p>\\n', b'<p>An opportunity for you to try out sample problems is provided for you:\\n', b'please visit CFD lab, ground floor, Aero-Annexe (below HSS dept): between\\n', b'5:30pm and 7:30pm. Please bring <strong>your own</strong> laptops. We will help you\\n', b'make a login, etc. only. Computers are being provided neither for\\n', b'the sample test (on Sunday evening) nor for the main test (on Monday evening).</p>\\n', b'<p>Here is a link for you to see two examples of python questions: one correct\\n', b'and two wrong answers per question.\\n', b'<a class=\"reference external\" href=\"http://www.ee.iitb.ac.in/~belur/sdes/July16sample.html\">http://www.ee.iitb.ac.in/~belur/sdes/July16sample.html</a></p>\\n', b'<p>In order to help us <strong>plan</strong> the qualifying test better,\\n', b'please fill the following google form:\\n', b'<a class=\"reference external\" href=\"http://goo.gl/forms/k6dCHC3Sw0IBZv6z1\">http://goo.gl/forms/k6dCHC3Sw0IBZv6z1</a></p>\\n', b'<p>This form will only help us conduct the test better: no <strong>decision</strong>\\n', b'is going to be taken based on this information.</p>\\n', b'<p>Some frequently asked questions:</p>\\n', b'<blockquote>\\n', b'<ul>\\n', b'<li><dl class=\"first docutils\">\\n', b'<dt>I do not intend to <em>credit</em> the course. Is the test obligatory?</dt>\\n', b'<dd><p class=\"first last\">The test is <strong>obligatory</strong> only to those <em>crediting</em> the course. Others\\n', b'are <em>encouraged</em> to appear to check their preparedness for the course.</p>\\n', b'</dd>\\n', b'</dl>\\n', b'</li>\\n', b'<li><dl class=\"first docutils\">\\n', b'<dt>Can I appear for the test later because I have prior commitments?</dt>\\n', b'<dd><p class=\"first last\">No. We have just one qualifying test: passing the test is <strong>obligatory</strong>\\n', b'in order to credit the course.</p>\\n', b'</dd>\\n', b'</dl>\\n', b'</li>\\n', b'<li><dl class=\"first docutils\">\\n', b'<dt>I have a different course during this slot. Can we have it at another time?</dt>\\n', b'<dd><p class=\"first last\">No. Anyway only one course is possible for registering for each slot.\\n', b'So you have to skip your other class today and attend SDES course in\\n', b'slot 12 in order to appear for the test.</p>\\n', b'</dd>\\n', b'</dl>\\n', b'</li>\\n', b'</ul>\\n', b'</blockquote>\\n', b'<p>Course syllabus in brief:</p>\\n', b'<blockquote>\\n', b'<ul class=\"simple\">\\n', b'<li>Version control system: git</li>\\n', b'<li>Using Linux tools and bash</li>\\n', b'<li>Latex, rst, markdown, sphinx</li>\\n', b'<li>Basic and Advanced Python</li>\\n', b'</ul>\\n', b'</blockquote>\\n', b'<p>Details about the above topics can be found from our previous course\\n', b'website: <a class=\"reference external\" href=\"http://www.fossee.in/sdes-iitb\">http://www.fossee.in/sdes-iitb</a></p>\\n', b'<p>Madhu (on behalf of all instructors: Prof. Prabhu Ramachandran,\\n', b'Prof. Kumar Appaiah)</p>\\n', b'<p><em>Page updated on 2nd August, 2016</em></p>\\n', b'</div>\\n', b'</body>\\n', b'</html>\\n']\n"
     ]
    }
   ],
   "source": [
    "from urllib.request import urlopen\n",
    "\n",
    "response = urlopen(\"http://www.ee.iitb.ac.in/~belur/sdes\")\n",
    "print(response)\n",
    "print(response.headers)\n",
    "print(response.headers['Date'])\n",
    "print(response.info())\n",
    "text = response.readlines()\n",
    "print(text)"
   ]
  }
 ],
 "metadata": {
  "kernelspec": {
   "display_name": "Python 3",
   "language": "python",
   "name": "python3"
  },
  "language_info": {
   "codemirror_mode": {
    "name": "ipython",
    "version": 3
   },
   "file_extension": ".py",
   "mimetype": "text/x-python",
   "name": "python",
   "nbconvert_exporter": "python",
   "pygments_lexer": "ipython3",
   "version": "3.5.2+"
  }
 },
 "nbformat": 4,
 "nbformat_minor": 1
}
